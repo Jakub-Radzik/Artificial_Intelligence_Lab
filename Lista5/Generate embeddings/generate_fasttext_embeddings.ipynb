{
 "nbformat": 4,
 "nbformat_minor": 0,
 "metadata": {
  "colab": {
   "provenance": []
  },
  "kernelspec": {
   "name": "python3",
   "display_name": "Python 3"
  },
  "language_info": {
   "name": "python"
  }
 },
 "cells": [
  {
   "cell_type": "markdown",
   "source": [
    "<h3>Download necessary package</h3>"
   ],
   "metadata": {
    "id": "SiRkGBY8Yqa4"
   }
  },
  {
   "cell_type": "code",
   "source": [
    "!sudo apt install wget gzip\n",
    "!pip install fasttext numpy"
   ],
   "metadata": {
    "colab": {
     "base_uri": "https://localhost:8080/"
    },
    "id": "SSroN2kkYul4",
    "outputId": "9b6995f6-d6be-4acd-8b09-bcddcd50b9bb"
   },
   "execution_count": 6,
   "outputs": [
    {
     "name": "stdout",
     "output_type": "stream",
     "text": [
      "Password:\r\n",
      "sudo: a password is required\r\n",
      "Requirement already satisfied: fasttext in /Users/jakubradzik-vazco/Desktop/STUDIA SEM 6/Artificial_Intelligence_Lab/Lista4/venv/lib/python3.10/site-packages (0.9.2)\r\n",
      "Requirement already satisfied: numpy in /Users/jakubradzik-vazco/Desktop/STUDIA SEM 6/Artificial_Intelligence_Lab/Lista4/venv/lib/python3.10/site-packages (1.24.3)\r\n",
      "Requirement already satisfied: setuptools>=0.7.0 in /Users/jakubradzik-vazco/Desktop/STUDIA SEM 6/Artificial_Intelligence_Lab/Lista4/venv/lib/python3.10/site-packages (from fasttext) (62.3.2)\r\n",
      "Requirement already satisfied: pybind11>=2.2 in /Users/jakubradzik-vazco/Desktop/STUDIA SEM 6/Artificial_Intelligence_Lab/Lista4/venv/lib/python3.10/site-packages (from fasttext) (2.10.4)\r\n",
      "\u001B[33mWARNING: There was an error checking the latest version of pip.\u001B[0m\u001B[33m\r\n",
      "\u001B[0m"
     ]
    }
   ]
  },
  {
   "cell_type": "markdown",
   "source": [
    "<h3>Import module</h3>"
   ],
   "metadata": {
    "id": "54IdLhDWY5hX"
   }
  },
  {
   "cell_type": "code",
   "source": [
    "import fasttext.util\n",
    "import numpy as np"
   ],
   "metadata": {
    "id": "e-mJqwfdY_dv"
   },
   "execution_count": 2,
   "outputs": []
  },
  {
   "cell_type": "markdown",
   "source": [
    "<h3>Download and unzip fastText model</h3>"
   ],
   "metadata": {
    "id": "s-QPrL6SZA96"
   }
  },
  {
   "cell_type": "code",
   "source": [
    "!wget -O cc.en.300.bin.gz https://dl.fbaipublicfiles.com/fasttext/vectors-crawl/cc.en.300.bin.gz"
   ],
   "metadata": {
    "colab": {
     "base_uri": "https://localhost:8080/"
    },
    "id": "IpvIpv_Tb0Cw",
    "outputId": "8362d4c2-577f-4902-badf-48a963713a86"
   },
   "execution_count": 3,
   "outputs": [
    {
     "name": "stdout",
     "output_type": "stream",
     "text": [
      "zsh:1: command not found: wget\r\n"
     ]
    }
   ]
  },
  {
   "cell_type": "markdown",
   "source": [
    "<h3>Unzip previously downloaded model</h3>"
   ],
   "metadata": {
    "id": "M264_L40dEd3"
   }
  },
  {
   "cell_type": "code",
   "source": [
    "!gzip -d cc.en.300.bin.gz"
   ],
   "metadata": {
    "id": "EdHki7zgdJiW"
   },
   "execution_count": 4,
   "outputs": [
    {
     "name": "stdout",
     "output_type": "stream",
     "text": [
      "gzip: can't stat: cc.en.300.bin.gz (cc.en.300.bin.gz.gz): No such file or directory\r\n"
     ]
    }
   ]
  },
  {
   "cell_type": "markdown",
   "source": [
    "<h3>Load model</h3>"
   ],
   "metadata": {
    "id": "VUEz7VUMZIKS"
   }
  },
  {
   "cell_type": "code",
   "execution_count": 5,
   "metadata": {
    "colab": {
     "base_uri": "https://localhost:8080/"
    },
    "id": "RBAFxfqxYmDb",
    "outputId": "2095a2ba-a6b4-4b3f-cec0-29d4bbb566b3"
   },
   "outputs": [
    {
     "name": "stderr",
     "output_type": "stream",
     "text": [
      "Warning : `load_model` does not return WordVectorModel or SupervisedModel any more, but a `FastText` object which is very similar.\n"
     ]
    },
    {
     "ename": "ValueError",
     "evalue": "cc.en.300.bin cannot be opened for loading!",
     "output_type": "error",
     "traceback": [
      "\u001B[0;31m---------------------------------------------------------------------------\u001B[0m",
      "\u001B[0;31mValueError\u001B[0m                                Traceback (most recent call last)",
      "Cell \u001B[0;32mIn[5], line 1\u001B[0m\n\u001B[0;32m----> 1\u001B[0m model \u001B[38;5;241m=\u001B[39m \u001B[43mfasttext\u001B[49m\u001B[38;5;241;43m.\u001B[39;49m\u001B[43mload_model\u001B[49m\u001B[43m(\u001B[49m\u001B[38;5;124;43m'\u001B[39;49m\u001B[38;5;124;43mcc.en.300.bin\u001B[39;49m\u001B[38;5;124;43m'\u001B[39;49m\u001B[43m)\u001B[49m\n",
      "File \u001B[0;32m~/Desktop/STUDIA SEM 6/Artificial_Intelligence_Lab/Lista4/venv/lib/python3.10/site-packages/fasttext/FastText.py:441\u001B[0m, in \u001B[0;36mload_model\u001B[0;34m(path)\u001B[0m\n\u001B[1;32m    439\u001B[0m \u001B[38;5;250m\u001B[39m\u001B[38;5;124;03m\"\"\"Load a model given a filepath and return a model object.\"\"\"\u001B[39;00m\n\u001B[1;32m    440\u001B[0m eprint(\u001B[38;5;124m\"\u001B[39m\u001B[38;5;124mWarning : `load_model` does not return WordVectorModel or SupervisedModel any more, but a `FastText` object which is very similar.\u001B[39m\u001B[38;5;124m\"\u001B[39m)\n\u001B[0;32m--> 441\u001B[0m \u001B[38;5;28;01mreturn\u001B[39;00m \u001B[43m_FastText\u001B[49m\u001B[43m(\u001B[49m\u001B[43mmodel_path\u001B[49m\u001B[38;5;241;43m=\u001B[39;49m\u001B[43mpath\u001B[49m\u001B[43m)\u001B[49m\n",
      "File \u001B[0;32m~/Desktop/STUDIA SEM 6/Artificial_Intelligence_Lab/Lista4/venv/lib/python3.10/site-packages/fasttext/FastText.py:98\u001B[0m, in \u001B[0;36m_FastText.__init__\u001B[0;34m(self, model_path, args)\u001B[0m\n\u001B[1;32m     96\u001B[0m \u001B[38;5;28mself\u001B[39m\u001B[38;5;241m.\u001B[39mf \u001B[38;5;241m=\u001B[39m fasttext\u001B[38;5;241m.\u001B[39mfasttext()\n\u001B[1;32m     97\u001B[0m \u001B[38;5;28;01mif\u001B[39;00m model_path \u001B[38;5;129;01mis\u001B[39;00m \u001B[38;5;129;01mnot\u001B[39;00m \u001B[38;5;28;01mNone\u001B[39;00m:\n\u001B[0;32m---> 98\u001B[0m     \u001B[38;5;28;43mself\u001B[39;49m\u001B[38;5;241;43m.\u001B[39;49m\u001B[43mf\u001B[49m\u001B[38;5;241;43m.\u001B[39;49m\u001B[43mloadModel\u001B[49m\u001B[43m(\u001B[49m\u001B[43mmodel_path\u001B[49m\u001B[43m)\u001B[49m\n\u001B[1;32m     99\u001B[0m \u001B[38;5;28mself\u001B[39m\u001B[38;5;241m.\u001B[39m_words \u001B[38;5;241m=\u001B[39m \u001B[38;5;28;01mNone\u001B[39;00m\n\u001B[1;32m    100\u001B[0m \u001B[38;5;28mself\u001B[39m\u001B[38;5;241m.\u001B[39m_labels \u001B[38;5;241m=\u001B[39m \u001B[38;5;28;01mNone\u001B[39;00m\n",
      "\u001B[0;31mValueError\u001B[0m: cc.en.300.bin cannot be opened for loading!"
     ]
    }
   ],
   "source": [
    "model = fasttext.load_model('cc.en.300.bin')"
   ]
  },
  {
   "cell_type": "markdown",
   "source": [
    "<h3>Generate embeddings for the specified list of texts</h3>"
   ],
   "metadata": {
    "id": "65qCZcPhZW01"
   }
  },
  {
   "cell_type": "code",
   "source": [
    "texts_list = [\"Hello, my dog is cute.\", \"I love Artificial Intelligence. Machine Learning is my passion!\"]\n",
    "\n",
    "embeddings = np.array([model.get_sentence_vector(text) for text in texts_list])\n",
    "\n",
    "embeddings.shape"
   ],
   "metadata": {
    "colab": {
     "base_uri": "https://localhost:8080/"
    },
    "id": "OseM-d65ZX6S",
    "outputId": "1886926a-1c58-49db-c790-f4844c9551c0"
   },
   "execution_count": null,
   "outputs": []
  }
 ]
}