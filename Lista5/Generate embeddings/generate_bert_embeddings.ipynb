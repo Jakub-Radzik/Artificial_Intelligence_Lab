{
 "cells": [
  {
   "attachments": {},
   "cell_type": "markdown",
   "metadata": {
    "id": "kbT6CaFYXNzT"
   },
   "source": [
    "<h3>Install necessary package</h3>"
   ]
  },
  {
   "cell_type": "code",
   "execution_count": 4,
   "metadata": {
    "colab": {
     "base_uri": "https://localhost:8080/"
    },
    "id": "E2GisfgzT1a4",
    "outputId": "3f251448-8e34-4256-e18b-59496efe0d93"
   },
   "outputs": [
    {
     "name": "stdout",
     "output_type": "stream",
     "text": [
      "Collecting sentence_transformers\r\n",
      "  Using cached sentence-transformers-2.2.2.tar.gz (85 kB)\r\n",
      "  Preparing metadata (setup.py) ... \u001B[?25ldone\r\n",
      "\u001B[?25hCollecting transformers<5.0.0,>=4.6.0\r\n",
      "  Using cached transformers-4.30.1-py3-none-any.whl (7.2 MB)\r\n",
      "Collecting tqdm\r\n",
      "  Using cached tqdm-4.65.0-py3-none-any.whl (77 kB)\r\n",
      "Collecting torch>=1.6.0\r\n",
      "  Using cached torch-2.0.1-cp310-none-macosx_11_0_arm64.whl (55.8 MB)\r\n",
      "Collecting torchvision\r\n",
      "  Using cached torchvision-0.15.2-cp310-cp310-macosx_11_0_arm64.whl (1.4 MB)\r\n",
      "Requirement already satisfied: numpy in /Users/jakubradzik-vazco/Desktop/STUDIA SEM 6/Artificial_Intelligence_Lab/Lista4/venv/lib/python3.10/site-packages (from sentence_transformers) (1.24.3)\r\n",
      "Requirement already satisfied: scikit-learn in /Users/jakubradzik-vazco/Desktop/STUDIA SEM 6/Artificial_Intelligence_Lab/Lista4/venv/lib/python3.10/site-packages (from sentence_transformers) (1.2.2)\r\n",
      "Requirement already satisfied: scipy in /Users/jakubradzik-vazco/Desktop/STUDIA SEM 6/Artificial_Intelligence_Lab/Lista4/venv/lib/python3.10/site-packages (from sentence_transformers) (1.10.1)\r\n",
      "Collecting nltk\r\n",
      "  Using cached nltk-3.8.1-py3-none-any.whl (1.5 MB)\r\n",
      "Collecting sentencepiece\r\n",
      "  Using cached sentencepiece-0.1.99-cp310-cp310-macosx_11_0_arm64.whl (1.2 MB)\r\n",
      "Collecting huggingface-hub>=0.4.0\r\n",
      "  Using cached huggingface_hub-0.15.1-py3-none-any.whl (236 kB)\r\n",
      "Collecting typing-extensions>=3.7.4.3\r\n",
      "  Using cached typing_extensions-4.6.3-py3-none-any.whl (31 kB)\r\n",
      "Collecting filelock\r\n",
      "  Using cached filelock-3.12.1-py3-none-any.whl (10 kB)\r\n",
      "Requirement already satisfied: packaging>=20.9 in /Users/jakubradzik-vazco/Desktop/STUDIA SEM 6/Artificial_Intelligence_Lab/Lista4/venv/lib/python3.10/site-packages (from huggingface-hub>=0.4.0->sentence_transformers) (23.1)\r\n",
      "Collecting fsspec\r\n",
      "  Using cached fsspec-2023.6.0-py3-none-any.whl (163 kB)\r\n",
      "Requirement already satisfied: pyyaml>=5.1 in /Users/jakubradzik-vazco/Desktop/STUDIA SEM 6/Artificial_Intelligence_Lab/Lista4/venv/lib/python3.10/site-packages (from huggingface-hub>=0.4.0->sentence_transformers) (6.0)\r\n",
      "Collecting requests\r\n",
      "  Using cached requests-2.31.0-py3-none-any.whl (62 kB)\r\n",
      "Collecting networkx\r\n",
      "  Downloading networkx-3.1-py3-none-any.whl (2.1 MB)\r\n",
      "\u001B[2K     \u001B[90m━━━━━━━━━━━━━━━━━━━━━━━━━━━━━━━━━━━━━━━━\u001B[0m \u001B[32m2.1/2.1 MB\u001B[0m \u001B[31m123.2 kB/s\u001B[0m eta \u001B[36m0:00:00\u001B[0m00:01\u001B[0m00:01\u001B[0m\r\n",
      "\u001B[?25hCollecting sympy\r\n",
      "  Downloading sympy-1.12-py3-none-any.whl (5.7 MB)\r\n",
      "\u001B[2K     \u001B[90m━━━━━━━━━━━━━━━━━━━━━━━━━━━━━━━━━━━━━━━━\u001B[0m \u001B[32m5.7/5.7 MB\u001B[0m \u001B[31m176.6 kB/s\u001B[0m eta \u001B[36m0:00:00\u001B[0m00:01\u001B[0m00:01\u001B[0m\r\n",
      "\u001B[?25hRequirement already satisfied: jinja2 in /Users/jakubradzik-vazco/Desktop/STUDIA SEM 6/Artificial_Intelligence_Lab/Lista4/venv/lib/python3.10/site-packages (from torch>=1.6.0->sentence_transformers) (3.1.2)\r\n",
      "Collecting regex!=2019.12.17\r\n",
      "  Downloading regex-2023.6.3-cp310-cp310-macosx_11_0_arm64.whl (288 kB)\r\n",
      "\u001B[2K     \u001B[90m━━━━━━━━━━━━━━━━━━━━━━━━━━━━━━━━━━━━━━\u001B[0m \u001B[32m289.0/289.0 kB\u001B[0m \u001B[31m98.5 kB/s\u001B[0m eta \u001B[36m0:00:00\u001B[0ma \u001B[36m0:00:01\u001B[0m\r\n",
      "\u001B[?25hCollecting tokenizers!=0.11.3,<0.14,>=0.11.1\r\n",
      "  Downloading tokenizers-0.13.3-cp310-cp310-macosx_12_0_arm64.whl (3.9 MB)\r\n",
      "\u001B[2K     \u001B[90m━━━━━━━━━━━━━━━━━━━━━━━━━━━━━━━━━━━━━━━━\u001B[0m \u001B[32m3.9/3.9 MB\u001B[0m \u001B[31m68.4 kB/s\u001B[0m eta \u001B[36m0:00:00\u001B[0m00:01\u001B[0m00:02\u001B[0mm\r\n",
      "\u001B[?25hCollecting safetensors>=0.3.1\r\n",
      "  Downloading safetensors-0.3.1-cp310-cp310-macosx_12_0_arm64.whl (401 kB)\r\n",
      "\u001B[2K     \u001B[90m━━━━━━━━━━━━━━━━━━━━━━━━━━━━━━━━━━━━━\u001B[0m \u001B[32m401.4/401.4 kB\u001B[0m \u001B[31m109.4 kB/s\u001B[0m eta \u001B[36m0:00:00\u001B[0m00:01\u001B[0m00:01\u001B[0m\r\n",
      "\u001B[?25hCollecting click\r\n",
      "  Using cached click-8.1.3-py3-none-any.whl (96 kB)\r\n",
      "Requirement already satisfied: joblib in /Users/jakubradzik-vazco/Desktop/STUDIA SEM 6/Artificial_Intelligence_Lab/Lista4/venv/lib/python3.10/site-packages (from nltk->sentence_transformers) (1.2.0)\r\n",
      "Requirement already satisfied: threadpoolctl>=2.0.0 in /Users/jakubradzik-vazco/Desktop/STUDIA SEM 6/Artificial_Intelligence_Lab/Lista4/venv/lib/python3.10/site-packages (from scikit-learn->sentence_transformers) (3.1.0)\r\n",
      "Requirement already satisfied: pillow!=8.3.*,>=5.3.0 in /Users/jakubradzik-vazco/Desktop/STUDIA SEM 6/Artificial_Intelligence_Lab/Lista4/venv/lib/python3.10/site-packages (from torchvision->sentence_transformers) (9.5.0)\r\n",
      "Requirement already satisfied: MarkupSafe>=2.0 in /Users/jakubradzik-vazco/Desktop/STUDIA SEM 6/Artificial_Intelligence_Lab/Lista4/venv/lib/python3.10/site-packages (from jinja2->torch>=1.6.0->sentence_transformers) (2.1.3)\r\n",
      "Requirement already satisfied: idna<4,>=2.5 in /Users/jakubradzik-vazco/Desktop/STUDIA SEM 6/Artificial_Intelligence_Lab/Lista4/venv/lib/python3.10/site-packages (from requests->huggingface-hub>=0.4.0->sentence_transformers) (3.4)\r\n",
      "Collecting certifi>=2017.4.17\r\n",
      "  Downloading certifi-2023.5.7-py3-none-any.whl (156 kB)\r\n",
      "\u001B[2K     \u001B[90m━━━━━━━━━━━━━━━━━━━━━━━━━━━━━━━━━━━━━\u001B[0m \u001B[32m157.0/157.0 kB\u001B[0m \u001B[31m152.4 kB/s\u001B[0m eta \u001B[36m0:00:00\u001B[0m00:01\u001B[0m00:01\u001B[0m\r\n",
      "\u001B[?25hCollecting urllib3<3,>=1.21.1\r\n",
      "  Downloading urllib3-2.0.3-py3-none-any.whl (123 kB)\r\n",
      "\u001B[2K     \u001B[90m━━━━━━━━━━━━━━━━━━━━━━━━━━━━━━━━━━━━━━\u001B[0m \u001B[32m123.6/123.6 kB\u001B[0m \u001B[31m82.3 kB/s\u001B[0m eta \u001B[36m0:00:00\u001B[0ma \u001B[36m0:00:01\u001B[0m\r\n",
      "\u001B[?25hCollecting charset-normalizer<4,>=2\r\n",
      "  Downloading charset_normalizer-3.1.0-cp310-cp310-macosx_11_0_arm64.whl (123 kB)\r\n",
      "\u001B[2K     \u001B[90m━━━━━━━━━━━━━━━━━━━━━━━━━━━━━━━━━━━━━\u001B[0m \u001B[32m123.0/123.0 kB\u001B[0m \u001B[31m116.8 kB/s\u001B[0m eta \u001B[36m0:00:00\u001B[0ma \u001B[36m0:00:01\u001B[0m\r\n",
      "\u001B[?25hCollecting mpmath>=0.19\r\n",
      "  Downloading mpmath-1.3.0-py3-none-any.whl (536 kB)\r\n",
      "\u001B[2K     \u001B[90m━━━━━━━━━━━━━━━━━━━━━━━━━━━━━━━━━━━━━\u001B[0m \u001B[32m536.2/536.2 kB\u001B[0m \u001B[31m153.9 kB/s\u001B[0m eta \u001B[36m0:00:00\u001B[0m00:01\u001B[0m00:01\u001B[0m\r\n",
      "\u001B[?25hBuilding wheels for collected packages: sentence_transformers\r\n",
      "  Building wheel for sentence_transformers (setup.py) ... \u001B[?25ldone\r\n",
      "\u001B[?25h  Created wheel for sentence_transformers: filename=sentence_transformers-2.2.2-py3-none-any.whl size=125925 sha256=570f23c599017a8966f84b395d3506dbf06694b762b356d2dc54bd5565e67f3c\r\n",
      "  Stored in directory: /Users/jakubradzik-vazco/Library/Caches/pip/wheels/62/f2/10/1e606fd5f02395388f74e7462910fe851042f97238cbbd902f\r\n",
      "Successfully built sentence_transformers\r\n",
      "Installing collected packages: tokenizers, sentencepiece, safetensors, mpmath, urllib3, typing-extensions, tqdm, sympy, regex, networkx, fsspec, filelock, click, charset-normalizer, certifi, torch, requests, nltk, torchvision, huggingface-hub, transformers, sentence_transformers\r\n",
      "Successfully installed certifi-2023.5.7 charset-normalizer-3.1.0 click-8.1.3 filelock-3.12.1 fsspec-2023.6.0 huggingface-hub-0.15.1 mpmath-1.3.0 networkx-3.1 nltk-3.8.1 regex-2023.6.3 requests-2.31.0 safetensors-0.3.1 sentence_transformers-2.2.2 sentencepiece-0.1.99 sympy-1.12 tokenizers-0.13.3 torch-2.0.1 torchvision-0.15.2 tqdm-4.65.0 transformers-4.30.1 typing-extensions-4.6.3 urllib3-2.0.3\r\n",
      "\u001B[33mWARNING: There was an error checking the latest version of pip.\u001B[0m\u001B[33m\r\n",
      "\u001B[0mNote: you may need to restart the kernel to use updated packages.\n"
     ]
    }
   ],
   "source": [
    "%pip install sentence_transformers"
   ]
  },
  {
   "attachments": {},
   "cell_type": "markdown",
   "metadata": {
    "id": "mZy9E3nJXVWT"
   },
   "source": [
    "<h3>Import class from the installed package</h3>"
   ]
  },
  {
   "cell_type": "markdown",
   "source": [],
   "metadata": {
    "collapsed": false
   }
  },
  {
   "cell_type": "code",
   "execution_count": 5,
   "metadata": {
    "id": "neiPf_AhSvQu"
   },
   "outputs": [],
   "source": [
    "from sentence_transformers import SentenceTransformer"
   ]
  },
  {
   "attachments": {},
   "cell_type": "markdown",
   "metadata": {
    "id": "Qi3scihVXcI5"
   },
   "source": [
    "<h3>Download BERT model</h3>"
   ]
  },
  {
   "cell_type": "code",
   "execution_count": 7,
   "metadata": {
    "colab": {
     "base_uri": "https://localhost:8080/"
    },
    "id": "7WLwyZEeUGGT",
    "outputId": "288ca7e7-8cb1-48be-a86b-5d24fda56053"
   },
   "outputs": [
    {
     "data": {
      "text/plain": "Downloading model.safetensors:   0%|          | 0.00/436M [00:00<?, ?B/s]",
      "application/vnd.jupyter.widget-view+json": {
       "version_major": 2,
       "version_minor": 0,
       "model_id": "9bb9a6756131463dbe824f12c26d8159"
      }
     },
     "metadata": {},
     "output_type": "display_data"
    },
    {
     "data": {
      "text/plain": "Downloading (…)846e0/tokenizer.json:   0%|          | 0.00/436k [00:00<?, ?B/s]",
      "application/vnd.jupyter.widget-view+json": {
       "version_major": 2,
       "version_minor": 0,
       "model_id": "1accf3aa99fb438089204b0e53ac7823"
      }
     },
     "metadata": {},
     "output_type": "display_data"
    },
    {
     "name": "stderr",
     "output_type": "stream",
     "text": [
      "No sentence-transformers model found with name /Users/jakubradzik-vazco/.cache/torch/sentence_transformers/bert-base-cased. Creating a new one with MEAN pooling.\n",
      "Some weights of the model checkpoint at /Users/jakubradzik-vazco/.cache/torch/sentence_transformers/bert-base-cased were not used when initializing BertModel: ['cls.predictions.transform.LayerNorm.weight', 'cls.seq_relationship.weight', 'cls.predictions.transform.dense.bias', 'cls.predictions.transform.dense.weight', 'cls.seq_relationship.bias', 'cls.predictions.transform.LayerNorm.bias', 'cls.predictions.bias']\n",
      "- This IS expected if you are initializing BertModel from the checkpoint of a model trained on another task or with another architecture (e.g. initializing a BertForSequenceClassification model from a BertForPreTraining model).\n",
      "- This IS NOT expected if you are initializing BertModel from the checkpoint of a model that you expect to be exactly identical (initializing a BertForSequenceClassification model from a BertForSequenceClassification model).\n"
     ]
    }
   ],
   "source": [
    "model = SentenceTransformer('bert-base-cased')"
   ]
  },
  {
   "attachments": {},
   "cell_type": "markdown",
   "metadata": {
    "id": "GHau-0a2XmnX"
   },
   "source": [
    "<h3>Generate embeddings for the specified list of texts</h3>"
   ]
  },
  {
   "cell_type": "code",
   "execution_count": null,
   "metadata": {
    "colab": {
     "base_uri": "https://localhost:8080/"
    },
    "id": "syWVnL4AUOJQ",
    "outputId": "9ce500c8-1f49-44a0-ec45-673a5fd31709",
    "pycharm": {
     "name": "#%%\n"
    }
   },
   "outputs": [],
   "source": [
    "texts_list = [\"Hello, my dog is cute.\", \"I love Artificial Intelligence. Machine Learning is my passion!\"]\n",
    "\n",
    "embeddings = model.encode(texts_list)\n",
    "\n",
    "embeddings.shape"
   ]
  }
 ],
 "metadata": {
  "colab": {
   "provenance": []
  },
  "kernelspec": {
   "display_name": "Python 3",
   "name": "python3"
  },
  "language_info": {
   "codemirror_mode": {
    "name": "ipython",
    "version": 3
   },
   "file_extension": ".py",
   "mimetype": "text/x-python",
   "name": "python",
   "nbconvert_exporter": "python",
   "pygments_lexer": "ipython3",
   "version": "3.11.0"
  }
 },
 "nbformat": 4,
 "nbformat_minor": 0
}