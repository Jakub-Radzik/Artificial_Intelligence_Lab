{
 "cells": [
  {
   "cell_type": "markdown",
   "source": [
    "Pokazanie danych statystycznych"
   ],
   "metadata": {
    "collapsed": false,
    "pycharm": {
     "name": "#%% md\n"
    }
   }
  },
  {
   "cell_type": "code",
   "execution_count": 13,
   "outputs": [
    {
     "name": "stdout",
     "output_type": "stream",
     "text": [
      "  Attribute      Min      Max     Mean      SD  Correlation with class\n",
      "0        RI   1.5112   1.5339   1.5184  0.0030                 -0.1642\n",
      "1        Na  10.7300  17.3800  13.4079  0.8166                  0.5030\n",
      "2        Mg   0.0000   4.4900   2.6845  1.4424                 -0.7447\n",
      "3        Al   0.2900   3.5000   1.4449  0.4993                  0.5988\n",
      "4        Si  69.8100  75.4100  72.6509  0.7745                  0.1515\n",
      "5         K   0.0000   6.2100   0.4971  0.6522                 -0.0100\n",
      "6        Ca   5.4300  16.1900   8.9570  1.4232                  0.0007\n",
      "7        Ba   0.0000   3.1500   0.1750  0.4972                  0.5751\n",
      "8        Fe   0.0000   0.5100   0.0570  0.0974                 -0.1879\n"
     ]
    }
   ],
   "source": [
    "import pandas as pd\n",
    "\n",
    "data = pd.read_csv('./data/summaryStats.csv')\n",
    "\n",
    "print(data)"
   ],
   "metadata": {
    "collapsed": false,
    "pycharm": {
     "name": "#%%\n"
    }
   }
  },
  {
   "cell_type": "markdown",
   "source": [
    "Zadanie 2"
   ],
   "metadata": {
    "collapsed": false,
    "pycharm": {
     "name": "#%% md\n"
    }
   }
  },
  {
   "cell_type": "code",
   "execution_count": 14,
   "outputs": [],
   "source": [
    "import pandas as pd\n",
    "\n",
    "column_names = ['Id', 'RI', 'Na', 'Mg', 'Al', 'Si', 'K', 'Ca', 'Ba', 'Fe', 'GlassType']\n",
    "data = pd.read_csv('./data/glass.data', header=None, names=column_names)\n",
    "\n",
    "x = data.drop('GlassType', axis=1)\n",
    "y = data['GlassType']"
   ],
   "metadata": {
    "collapsed": false,
    "pycharm": {
     "name": "#%%\n"
    }
   }
  },
  {
   "cell_type": "markdown",
   "source": [
    "Zbiór cech"
   ],
   "metadata": {
    "collapsed": false,
    "pycharm": {
     "name": "#%% md\n"
    }
   }
  },
  {
   "cell_type": "code",
   "execution_count": 15,
   "outputs": [
    {
     "data": {
      "text/plain": "      Id       RI     Na    Mg    Al     Si     K    Ca    Ba   Fe\n0      1  1.52101  13.64  4.49  1.10  71.78  0.06  8.75  0.00  0.0\n1      2  1.51761  13.89  3.60  1.36  72.73  0.48  7.83  0.00  0.0\n2      3  1.51618  13.53  3.55  1.54  72.99  0.39  7.78  0.00  0.0\n3      4  1.51766  13.21  3.69  1.29  72.61  0.57  8.22  0.00  0.0\n4      5  1.51742  13.27  3.62  1.24  73.08  0.55  8.07  0.00  0.0\n..   ...      ...    ...   ...   ...    ...   ...   ...   ...  ...\n209  210  1.51623  14.14  0.00  2.88  72.61  0.08  9.18  1.06  0.0\n210  211  1.51685  14.92  0.00  1.99  73.06  0.00  8.40  1.59  0.0\n211  212  1.52065  14.36  0.00  2.02  73.42  0.00  8.44  1.64  0.0\n212  213  1.51651  14.38  0.00  1.94  73.61  0.00  8.48  1.57  0.0\n213  214  1.51711  14.23  0.00  2.08  73.36  0.00  8.62  1.67  0.0\n\n[214 rows x 10 columns]",
      "text/html": "<div>\n<style scoped>\n    .dataframe tbody tr th:only-of-type {\n        vertical-align: middle;\n    }\n\n    .dataframe tbody tr th {\n        vertical-align: top;\n    }\n\n    .dataframe thead th {\n        text-align: right;\n    }\n</style>\n<table border=\"1\" class=\"dataframe\">\n  <thead>\n    <tr style=\"text-align: right;\">\n      <th></th>\n      <th>Id</th>\n      <th>RI</th>\n      <th>Na</th>\n      <th>Mg</th>\n      <th>Al</th>\n      <th>Si</th>\n      <th>K</th>\n      <th>Ca</th>\n      <th>Ba</th>\n      <th>Fe</th>\n    </tr>\n  </thead>\n  <tbody>\n    <tr>\n      <th>0</th>\n      <td>1</td>\n      <td>1.52101</td>\n      <td>13.64</td>\n      <td>4.49</td>\n      <td>1.10</td>\n      <td>71.78</td>\n      <td>0.06</td>\n      <td>8.75</td>\n      <td>0.00</td>\n      <td>0.0</td>\n    </tr>\n    <tr>\n      <th>1</th>\n      <td>2</td>\n      <td>1.51761</td>\n      <td>13.89</td>\n      <td>3.60</td>\n      <td>1.36</td>\n      <td>72.73</td>\n      <td>0.48</td>\n      <td>7.83</td>\n      <td>0.00</td>\n      <td>0.0</td>\n    </tr>\n    <tr>\n      <th>2</th>\n      <td>3</td>\n      <td>1.51618</td>\n      <td>13.53</td>\n      <td>3.55</td>\n      <td>1.54</td>\n      <td>72.99</td>\n      <td>0.39</td>\n      <td>7.78</td>\n      <td>0.00</td>\n      <td>0.0</td>\n    </tr>\n    <tr>\n      <th>3</th>\n      <td>4</td>\n      <td>1.51766</td>\n      <td>13.21</td>\n      <td>3.69</td>\n      <td>1.29</td>\n      <td>72.61</td>\n      <td>0.57</td>\n      <td>8.22</td>\n      <td>0.00</td>\n      <td>0.0</td>\n    </tr>\n    <tr>\n      <th>4</th>\n      <td>5</td>\n      <td>1.51742</td>\n      <td>13.27</td>\n      <td>3.62</td>\n      <td>1.24</td>\n      <td>73.08</td>\n      <td>0.55</td>\n      <td>8.07</td>\n      <td>0.00</td>\n      <td>0.0</td>\n    </tr>\n    <tr>\n      <th>...</th>\n      <td>...</td>\n      <td>...</td>\n      <td>...</td>\n      <td>...</td>\n      <td>...</td>\n      <td>...</td>\n      <td>...</td>\n      <td>...</td>\n      <td>...</td>\n      <td>...</td>\n    </tr>\n    <tr>\n      <th>209</th>\n      <td>210</td>\n      <td>1.51623</td>\n      <td>14.14</td>\n      <td>0.00</td>\n      <td>2.88</td>\n      <td>72.61</td>\n      <td>0.08</td>\n      <td>9.18</td>\n      <td>1.06</td>\n      <td>0.0</td>\n    </tr>\n    <tr>\n      <th>210</th>\n      <td>211</td>\n      <td>1.51685</td>\n      <td>14.92</td>\n      <td>0.00</td>\n      <td>1.99</td>\n      <td>73.06</td>\n      <td>0.00</td>\n      <td>8.40</td>\n      <td>1.59</td>\n      <td>0.0</td>\n    </tr>\n    <tr>\n      <th>211</th>\n      <td>212</td>\n      <td>1.52065</td>\n      <td>14.36</td>\n      <td>0.00</td>\n      <td>2.02</td>\n      <td>73.42</td>\n      <td>0.00</td>\n      <td>8.44</td>\n      <td>1.64</td>\n      <td>0.0</td>\n    </tr>\n    <tr>\n      <th>212</th>\n      <td>213</td>\n      <td>1.51651</td>\n      <td>14.38</td>\n      <td>0.00</td>\n      <td>1.94</td>\n      <td>73.61</td>\n      <td>0.00</td>\n      <td>8.48</td>\n      <td>1.57</td>\n      <td>0.0</td>\n    </tr>\n    <tr>\n      <th>213</th>\n      <td>214</td>\n      <td>1.51711</td>\n      <td>14.23</td>\n      <td>0.00</td>\n      <td>2.08</td>\n      <td>73.36</td>\n      <td>0.00</td>\n      <td>8.62</td>\n      <td>1.67</td>\n      <td>0.0</td>\n    </tr>\n  </tbody>\n</table>\n<p>214 rows × 10 columns</p>\n</div>"
     },
     "execution_count": 15,
     "metadata": {},
     "output_type": "execute_result"
    }
   ],
   "source": [
    "x"
   ],
   "metadata": {
    "collapsed": false,
    "pycharm": {
     "name": "#%%\n"
    }
   }
  },
  {
   "cell_type": "markdown",
   "source": [
    "Etykiety"
   ],
   "metadata": {
    "collapsed": false,
    "pycharm": {
     "name": "#%% md\n"
    }
   }
  },
  {
   "cell_type": "code",
   "execution_count": 16,
   "outputs": [
    {
     "data": {
      "text/plain": "0      1\n1      1\n2      1\n3      1\n4      1\n      ..\n209    7\n210    7\n211    7\n212    7\n213    7\nName: GlassType, Length: 214, dtype: int64"
     },
     "execution_count": 16,
     "metadata": {},
     "output_type": "execute_result"
    }
   ],
   "source": [
    "y"
   ],
   "metadata": {
    "collapsed": false,
    "pycharm": {
     "name": "#%%\n"
    }
   }
  },
  {
   "cell_type": "code",
   "execution_count": 17,
   "outputs": [],
   "source": [
    "from sklearn.model_selection import train_test_split\n",
    "\n",
    "X_train, X_val, y_train, y_val = train_test_split(x, y, test_size=0.3, random_state=42)"
   ],
   "metadata": {
    "collapsed": false,
    "pycharm": {
     "name": "#%%\n"
    }
   }
  },
  {
   "cell_type": "code",
   "execution_count": 18,
   "outputs": [
    {
     "name": "stdout",
     "output_type": "stream",
     "text": [
      "Zbiór uczący (cechy):\n",
      "      Id       RI     Na    Mg    Al     Si     K     Ca    Ba    Fe\n",
      "137  138  1.51711  12.89  3.62  1.57  72.96  0.61   8.11  0.00  0.00\n",
      "65    66  1.52099  13.69  3.59  1.12  71.96  0.09   9.40  0.00  0.00\n",
      "108  109  1.52222  14.43  0.00  1.00  72.67  0.10  11.52  0.00  0.08\n",
      "181  182  1.51888  14.99  0.78  1.74  72.50  0.00   9.95  0.00  0.00\n",
      "31    32  1.51747  12.84  3.50  1.14  73.27  0.56   8.55  0.00  0.00\n",
      "..   ...      ...    ...   ...   ...    ...   ...    ...   ...   ...\n",
      "106  107  1.53125  10.73  0.00  2.10  69.81  0.58  13.30  3.15  0.28\n",
      "14    15  1.51763  12.61  3.59  1.31  73.29  0.58   8.50  0.00  0.00\n",
      "92    93  1.51588  13.12  3.41  1.58  73.26  0.07   8.39  0.00  0.19\n",
      "179  180  1.51852  14.09  2.19  1.66  72.67  0.00   9.32  0.00  0.00\n",
      "102  103  1.51820  12.62  2.76  0.83  73.81  0.35   9.42  0.00  0.20\n",
      "\n",
      "[149 rows x 10 columns]\n",
      "\n",
      "Zbiór uczący (etykiety):\n",
      "137    2\n",
      "65     1\n",
      "108    2\n",
      "181    6\n",
      "31     1\n",
      "      ..\n",
      "106    2\n",
      "14     1\n",
      "92     2\n",
      "179    6\n",
      "102    2\n",
      "Name: GlassType, Length: 149, dtype: int64\n",
      "\n",
      "Zbiór walidacyjny (cechy):\n",
      "      Id       RI     Na    Mg    Al     Si     K     Ca    Ba    Fe\n",
      "9     10  1.51755  13.00  3.60  1.36  72.99  0.57   8.40  0.00  0.11\n",
      "197  198  1.51727  14.70  0.00  2.34  73.28  0.00   8.95  0.66  0.00\n",
      "66    67  1.52152  13.05  3.65  0.87  72.22  0.19   9.85  0.00  0.17\n",
      "191  192  1.51602  14.85  0.00  2.38  73.28  0.00   8.76  0.64  0.09\n",
      "117  118  1.51708  13.72  3.68  1.81  72.06  0.64   7.88  0.00  0.00\n",
      "..   ...      ...    ...   ...   ...    ...   ...    ...   ...   ...\n",
      "5      6  1.51596  12.79  3.61  1.62  72.97  0.64   8.07  0.00  0.26\n",
      "135  136  1.51789  13.19  3.90  1.30  72.33  0.55   8.44  0.00  0.28\n",
      "56    57  1.51215  12.99  3.47  1.12  72.98  0.62   8.35  0.00  0.31\n",
      "199  200  1.51609  15.01  0.00  2.51  73.05  0.05   8.83  0.53  0.00\n",
      "173  174  1.52043  13.38  0.00  1.40  72.25  0.33  12.50  0.00  0.00\n",
      "\n",
      "[65 rows x 10 columns]\n",
      "\n",
      "Zbiór walidacyjny (etykiety):\n",
      "9      1\n",
      "197    7\n",
      "66     1\n",
      "191    7\n",
      "117    2\n",
      "      ..\n",
      "5      1\n",
      "135    2\n",
      "56     1\n",
      "199    7\n",
      "173    5\n",
      "Name: GlassType, Length: 65, dtype: int64\n"
     ]
    }
   ],
   "source": [
    "# Wyświetlenie podziału\n",
    "print(\"Zbiór uczący (cechy):\")\n",
    "print(X_train)\n",
    "print(\"\\nZbiór uczący (etykiety):\")\n",
    "print(y_train)\n",
    "print(\"\\nZbiór walidacyjny (cechy):\")\n",
    "print(X_val)\n",
    "print(\"\\nZbiór walidacyjny (etykiety):\")\n",
    "print(y_val)"
   ],
   "metadata": {
    "collapsed": false,
    "pycharm": {
     "name": "#%%\n"
    }
   }
  },
  {
   "cell_type": "code",
   "execution_count": 18,
   "outputs": [],
   "source": [],
   "metadata": {
    "collapsed": false,
    "pycharm": {
     "name": "#%%\n"
    }
   }
  }
 ],
 "metadata": {
  "kernelspec": {
   "display_name": "Python 3",
   "language": "python",
   "name": "python3"
  },
  "language_info": {
   "codemirror_mode": {
    "name": "ipython",
    "version": 2
   },
   "file_extension": ".py",
   "mimetype": "text/x-python",
   "name": "python",
   "nbconvert_exporter": "python",
   "pygments_lexer": "ipython2",
   "version": "2.7.6"
  }
 },
 "nbformat": 4,
 "nbformat_minor": 0
}